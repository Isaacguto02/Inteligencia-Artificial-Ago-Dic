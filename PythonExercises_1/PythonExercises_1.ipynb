{
  "nbformat": 4,
  "nbformat_minor": 0,
  "metadata": {
    "colab": {
      "provenance": [],
      "authorship_tag": "ABX9TyNHcS1ccpbmD9uhJ4mcX9Qn",
      "include_colab_link": true
    },
    "kernelspec": {
      "name": "python3",
      "display_name": "Python 3"
    },
    "language_info": {
      "name": "python"
    }
  },
  "cells": [
    {
      "cell_type": "markdown",
      "metadata": {
        "id": "view-in-github",
        "colab_type": "text"
      },
      "source": [
        "<a href=\"https://colab.research.google.com/github/Isaacguto02/Inteligencia-Artificial-Ago-Dic/blob/main/PythonExercises_1/PythonExercises_1.ipynb\" target=\"_parent\"><img src=\"https://colab.research.google.com/assets/colab-badge.svg\" alt=\"Open In Colab\"/></a>"
      ]
    },
    {
      "cell_type": "code",
      "source": [
        "# Isaac Ulises Gutiérrez Ortega - 2077368 - IB - Artificial Intelligence"
      ],
      "metadata": {
        "id": "4G1yOug2ewei"
      },
      "execution_count": null,
      "outputs": []
    },
    {
      "cell_type": "code",
      "execution_count": null,
      "metadata": {
        "colab": {
          "base_uri": "https://localhost:8080/"
        },
        "id": "AnVRPC0AKhYL",
        "outputId": "15f0f11a-91f5-480e-9c02-09b1a491215d"
      },
      "outputs": [
        {
          "output_type": "stream",
          "name": "stdout",
          "text": [
            "Drive already mounted at /content/drive; to attempt to forcibly remount, call drive.mount(\"/content/drive\", force_remount=True).\n",
            "Total words: 210\n",
            "Total sentences: 8\n",
            "Total paragraphs: 2\n",
            "Average word length: 5.147619047619048\n",
            "Most common words: [('de', 20), ('la', 16), ('en', 6), ('Quijote', 5)]\n"
          ]
        }
      ],
      "source": [
        "import os\n",
        "from google.colab import drive\n",
        "from collections import Counter\n",
        "drive.mount('/content/drive')\n",
        "os.chdir('/content/drive/My Drive/')\n",
        "with open('sample_text.txt', 'r') as f:\n",
        "    data = f.read()\n",
        "\n",
        "    # Count the number of lines, words, and characters.\n",
        "    num_words = len(data.split())\n",
        "    num_sentences = len(data.split('.'))\n",
        "    num_paragraphs = len(data.split('\\n\\n'))\n",
        "\n",
        "    # Calculate the average word length.\n",
        "avg_word_length = sum(len(word) for word in data.split()) / num_words\n",
        "\n",
        "# Identify the most common words and their frequencies.\n",
        "Counter = Counter(data.split())\n",
        "most_occur = Counter.most_common(4)\n",
        "\n",
        "  # Print the results.\n",
        "print('Total words:', num_words)\n",
        "print('Total sentences:', num_sentences)\n",
        "print('Total paragraphs:', num_paragraphs)\n",
        "print('Average word length:', avg_word_length)\n",
        "print('Most common words:', most_occur)\n"
      ]
    },
    {
      "cell_type": "code",
      "source": [
        "import random\n",
        "\n",
        "words = [\"apple\", \"banana\", \"cat\", \"dog\", \"elephant\"]\n",
        "\n",
        "# Randomly select a word from the list.\n",
        "word = random.choice(words)\n",
        "\n",
        "# Initialize the number of attempts.\n",
        "attempts = 6\n",
        "\n",
        "# Start the game loop.\n",
        "while attempts > 0:\n",
        "\n",
        "  # Get the player's guess.\n",
        "  guess = input(\"Guess a letter or the full word: \")\n",
        "\n",
        "  # Check if the player wants to guess the full word.\n",
        "  if guess == word:\n",
        "    print(\"Correct\")\n",
        "    break\n",
        "\n",
        "  # Check if the guess is correct.\n",
        "  if guess in word:\n",
        "    print(\"Correct\")\n",
        "  else:\n",
        "    print(\"Incorrect\")\n",
        "    attempts -= 1\n",
        "\n",
        "  # Check if the player has lost.\n",
        "  if attempts == 0:\n",
        "    print(\"You lost\")\n",
        "    break\n",
        "\n",
        "# Display the results of the game.\n",
        "if attempts > 0:\n",
        "  print(f\"The secret word was: {word}.\")\n",
        "else:\n",
        "  print(\"Better luck next time!\")\n",
        "\n"
      ],
      "metadata": {
        "colab": {
          "base_uri": "https://localhost:8080/"
        },
        "id": "7wEQSZS3Twu6",
        "outputId": "6242dc89-4555-4c03-b68e-ca485beb910d"
      },
      "execution_count": null,
      "outputs": [
        {
          "output_type": "stream",
          "name": "stdout",
          "text": [
            "Guess a letter or the full word: b\n",
            "Incorrect!\n",
            "Guess a letter or the full word: c\n",
            "Incorrect!\n",
            "Guess a letter or the full word: a\n",
            "Incorrect!\n",
            "Guess a letter or the full word: d\n",
            "Correct!\n",
            "Guess a letter or the full word: dog\n",
            "Correct!\n",
            "The secret word was: dog\n"
          ]
        }
      ]
    },
    {
      "cell_type": "code",
      "source": [
        "import random\n",
        "\n",
        "# Generate a random number between 1 and 100.\n",
        "random_number = random.randint(1, 100)\n",
        "\n",
        "# Start the game loop.\n",
        "while True:\n",
        "\n",
        "  # Get the user's guess.\n",
        "  guess = int(input(\"Guess a number between 1 and 100: \"))\n",
        "\n",
        "  # Check if the guess is correct.\n",
        "  if guess == random_number:\n",
        "    print(\"Congratulations, you guessed.\")\n",
        "    break\n",
        "\n",
        "  # Provide a hint to the user.\n",
        "  elif guess > random_number:\n",
        "    print(\"Too high.\")\n",
        "  else:\n",
        "    print(\"Too low.\")\n",
        "\n",
        "\n",
        "\n"
      ],
      "metadata": {
        "colab": {
          "base_uri": "https://localhost:8080/"
        },
        "id": "S2Mk3vtyW_Re",
        "outputId": "450b079c-eaf2-48d6-d943-00b4fd73ceda"
      },
      "execution_count": null,
      "outputs": [
        {
          "output_type": "stream",
          "name": "stdout",
          "text": [
            "Guess a number between 1 and 100: 4\n",
            "Your guess is too low.\n",
            "Guess a number between 1 and 100: 100\n",
            "Your guess is too high.\n",
            "Guess a number between 1 and 100: 10\n",
            "Your guess is too low.\n",
            "Guess a number between 1 and 100: 50\n",
            "Your guess is too high.\n",
            "Guess a number between 1 and 100: 20\n",
            "Congratulations! You guessed correctly!\n"
          ]
        }
      ]
    }
  ]
}